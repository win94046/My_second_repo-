{
 "cells": [
  {
   "cell_type": "code",
   "execution_count": 26,
   "metadata": {
    "collapsed": true
   },
   "outputs": [],
   "source": [
    "class animal:\n",
    "    pass"
   ]
  },
  {
   "cell_type": "code",
   "execution_count": 27,
   "metadata": {
    "collapsed": false
   },
   "outputs": [],
   "source": [
    "dog1 = animal()\n",
    "cat1 = animal()"
   ]
  },
  {
   "cell_type": "code",
   "execution_count": 28,
   "metadata": {
    "collapsed": false
   },
   "outputs": [
    {
     "data": {
      "text/plain": [
       "True"
      ]
     },
     "execution_count": 28,
     "metadata": {},
     "output_type": "execute_result"
    }
   ],
   "source": [
    "isinstance(dog1, animal)"
   ]
  },
  {
   "cell_type": "code",
   "execution_count": 118,
   "metadata": {
    "collapsed": false
   },
   "outputs": [],
   "source": [
    "class animal:\n",
    "    def __init__(self, name, weight):\n",
    "        self.name = name\n",
    "        self.__weight__ = weight\n",
    "\n",
    "    def __repr__(self):\n",
    "        return\"my name is \" + self.name\n",
    "    def __add__(self, other):\n",
    "        return animal(self.name+\"x\"+other.name, \n",
    "                      self.__weight__+ other.__weight__)\n",
    "    def __str__(self):\n",
    "        return\"animal:\" + self.name\n",
    "    \n",
    "    def sleep(self):\n",
    "        print self.name ,\"is sleeping\"\n",
    "        \n",
    "    def eat(self, food):\n",
    "        if self.__weight__<3:\n",
    "            print self.name, \"is eating\", food \n",
    "            self.__weight__ += 1\n",
    "        else:\n",
    "            print \"i am so fat\""
   ]
  },
  {
   "cell_type": "code",
   "execution_count": 119,
   "metadata": {
    "collapsed": false
   },
   "outputs": [],
   "source": [
    "dog1 = animal(\"doggy\", 1)\n",
    "cat1 = animal(\"kitty\", 1)"
   ]
  },
  {
   "cell_type": "code",
   "execution_count": 120,
   "metadata": {
    "collapsed": false
   },
   "outputs": [
    {
     "name": "stdout",
     "output_type": "stream",
     "text": [
      "doggy is sleeping\n"
     ]
    }
   ],
   "source": [
    "dog1.sleep()"
   ]
  },
  {
   "cell_type": "code",
   "execution_count": 121,
   "metadata": {
    "collapsed": false
   },
   "outputs": [
    {
     "name": "stdout",
     "output_type": "stream",
     "text": [
      "doggy is eating banana\n"
     ]
    }
   ],
   "source": [
    "dog1.eat(\"banana\")"
   ]
  },
  {
   "cell_type": "code",
   "execution_count": 122,
   "metadata": {
    "collapsed": false
   },
   "outputs": [
    {
     "name": "stdout",
     "output_type": "stream",
     "text": [
      "doggy is eating banana\n"
     ]
    }
   ],
   "source": [
    "dog1.eat(\"banana\")"
   ]
  },
  {
   "cell_type": "code",
   "execution_count": 123,
   "metadata": {
    "collapsed": false
   },
   "outputs": [
    {
     "name": "stdout",
     "output_type": "stream",
     "text": [
      "i am so fat\n"
     ]
    }
   ],
   "source": [
    "dog1.eat(\"banana\")"
   ]
  },
  {
   "cell_type": "code",
   "execution_count": 124,
   "metadata": {
    "collapsed": false
   },
   "outputs": [
    {
     "data": {
      "text/plain": [
       "my name is doggyxkitty"
      ]
     },
     "execution_count": 124,
     "metadata": {},
     "output_type": "execute_result"
    }
   ],
   "source": [
    "dog1 + cat1"
   ]
  },
  {
   "cell_type": "code",
   "execution_count": 132,
   "metadata": {
    "collapsed": true
   },
   "outputs": [],
   "source": [
    "class bird(animal):\n",
    "    def __init__(self, name, weight):\n",
    "        animal.__init__(self, name, weight)\n",
    "        self.name = \"!\"+self.name+\"!\"\n",
    "    def fly(self):\n",
    "        print \"lood, \", self.name, \"is flying\"\n",
    "    def __str__(self):\n",
    "        return\"bird:\" + self.name\n",
    "class fish(animal):\n",
    "    def swim(self):\n",
    "        print \"i am swimming\"\n",
    "    def __str__(self):\n",
    "        return\"fish:\" + self.name"
   ]
  },
  {
   "cell_type": "code",
   "execution_count": 133,
   "metadata": {
    "collapsed": true
   },
   "outputs": [],
   "source": [
    "bird1 = bird(\"birdy\", 1)"
   ]
  },
  {
   "cell_type": "code",
   "execution_count": 134,
   "metadata": {
    "collapsed": false
   },
   "outputs": [
    {
     "name": "stdout",
     "output_type": "stream",
     "text": [
      "lood,  !birdy! is flying\n"
     ]
    }
   ],
   "source": [
    "bird1.fly()"
   ]
  },
  {
   "cell_type": "code",
   "execution_count": 135,
   "metadata": {
    "collapsed": false
   },
   "outputs": [],
   "source": [
    "fish1 = fish(\"fishk\", 1)"
   ]
  },
  {
   "cell_type": "code",
   "execution_count": null,
   "metadata": {
    "collapsed": true
   },
   "outputs": [],
   "source": []
  }
 ],
 "metadata": {
  "kernelspec": {
   "display_name": "Python 2",
   "language": "python",
   "name": "python2"
  },
  "language_info": {
   "codemirror_mode": {
    "name": "ipython",
    "version": 2
   },
   "file_extension": ".py",
   "mimetype": "text/x-python",
   "name": "python",
   "nbconvert_exporter": "python",
   "pygments_lexer": "ipython2",
   "version": "2.7.11"
  }
 },
 "nbformat": 4,
 "nbformat_minor": 0
}
